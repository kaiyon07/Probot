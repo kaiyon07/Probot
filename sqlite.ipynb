{
 "cells": [
  {
   "cell_type": "code",
   "execution_count": 3,
   "metadata": {},
   "outputs": [],
   "source": [
    "import sqlite3\n",
    "from sqlite3 import Error\n",
    "\n",
    "database = \"minitweet.db\""
   ]
  },
  {
   "cell_type": "code",
   "execution_count": 18,
   "metadata": {},
   "outputs": [],
   "source": [
    "def create_connection(db_file):\n",
    "    \"\"\" create a database connection to the SQLite database\n",
    "        specified by db_file\n",
    "    :param db_file: database file\n",
    "    :return: Connection object or None\n",
    "    \"\"\"\n",
    "    connection = None\n",
    "    try:\n",
    "        connection = sqlite3.connect(db_file)\n",
    "        return connection\n",
    "    except Error as e:\n",
    "        print(e)\n",
    "\n",
    "    #return connection\n",
    "\n",
    "\n",
    "def execute_query(connection, query):\n",
    "    try:\n",
    "        cursor = connection.cursor()\n",
    "        cursor.execute(query)\n",
    "        #connection.commit()\n",
    "        print(\"Query successful\")\n",
    "    except Error as err:\n",
    "        print(f\"Error: '{err}'\")\n",
    "    \n",
    "    return cursor\n",
    "\n",
    "def execute_query_params(connection, query,params):\n",
    "    try:\n",
    "        cursor = connection.cursor()\n",
    "        cursor.execute(query,params)\n",
    "        #connection.commit()\n",
    "        print(\"Query successful\")\n",
    "        return cursor\n",
    "    except Error as err:\n",
    "        print(f\"Error: '{err}'\")\n",
    "    \n",
    "    \n",
    "\n",
    "\n",
    "\n",
    "\n"
   ]
  },
  {
   "cell_type": "code",
   "execution_count": 7,
   "metadata": {},
   "outputs": [],
   "source": [
    "#establishing a connection\n",
    "\n",
    "connection = create_connection(database)\n"
   ]
  },
  {
   "cell_type": "code",
   "execution_count": 82,
   "metadata": {},
   "outputs": [
    {
     "name": "stdout",
     "output_type": "stream",
     "text": [
      "Error: 'table users_table already exists'\n",
      "Error: 'table auth_table already exists'\n"
     ]
    }
   ],
   "source": [
    "create_user_table = \"\"\"\n",
    "CREATE TABLE users_table (\n",
    "  userID VARCHAR(256) PRIMARY KEY,\n",
    "  password VARCHAR(256) NOT NULL,\n",
    "  first_name VARCHAR(256) NOT NULL,\n",
    "  last_name VARCHAR(256) NOT NULL,\n",
    "  followers TEXT,\n",
    "  following TEXT,\n",
    "  is_online BOOL,\n",
    "  tweet_ids TEXT\n",
    "  );\n",
    " \"\"\"\n",
    "\n",
    "create_auth_table =\"\"\"\n",
    "CREATE TABLE auth_table (\n",
    "userID VARCHAR(256) PRIMARY KEY,\n",
    "auth_token VARCHAR(256) NOT NULL\n",
    ");\n",
    "\"\"\"\n",
    "\n",
    "cursor=execute_query(connection, create_user_table)\n",
    "cursor=execute_query(connection, create_auth_table)\n",
    "\n",
    "for i in cursor:\n",
    "    print(i)"
   ]
  },
  {
   "cell_type": "code",
   "execution_count": null,
   "metadata": {},
   "outputs": [],
   "source": [
    "#Full Schema\n",
    "\n",
    "create_user_table = \"\"\"\n",
    "CREATE TABLE user_table (\n",
    "  userID VARCHAR(256) PRIMARY KEY,\n",
    "  password VARCHAR(256) NOT NULL,\n",
    "  first_name VARCHAR(256) NOT NULL,\n",
    "  last_name VARCHAR(256) NOT NULL,\n",
    "  followers TEXT,\n",
    "  following TEXT,\n",
    "  is_online BOOL,\n",
    "  tweet_id TEXT,\n",
    "  liked_tweet TEXT\n",
    "  );\n",
    " \"\"\"\n",
    "\n",
    "create_auth_table =\"\"\"\n",
    "CREATE TABLE auth_table (\n",
    "userID VARCHAR(256) PRIMARY KEY,\n",
    "auth_token VARCHAR(256) NOT NULL\n",
    ");\n",
    "\"\"\"\n",
    "\n",
    "create_tweet_table =\"\"\"\n",
    "CREATE TABLE users_table (\n",
    "  tweet_id VARCHAR(256) PRIMARY KEY,\n",
    "  password VARCHAR(256) NOT NULL,\n",
    "  first_name VARCHAR(256) NOT NULL,\n",
    "  last_name VARCHAR(256) NOT NULL,\n",
    "  followers TEXT,\n",
    "  following TEXT,\n",
    "  is_online BOOL,\n",
    "  tweet_ids TEXT,\n",
    "  liked_tweet TEXT\n",
    "  );\n",
    " \"\"\"\n",
    "\n",
    "cursor=execute_query(connection, create_user_table)\n",
    "cursor=execute_query(connection, create_auth_table)\n",
    "\n",
    "for i in cursor:\n",
    "    print(i)"
   ]
  },
  {
   "cell_type": "code",
   "execution_count": 10,
   "metadata": {},
   "outputs": [
    {
     "name": "stdout",
     "output_type": "stream",
     "text": [
      "Query successful\n"
     ]
    }
   ],
   "source": [
    "# adding dummy data\n",
    "\n",
    "insert_user = \"\"\"\n",
    "INSERT INTO users_table VALUES\n",
    "('Kishen_19', 'chicken', 'Kishen', 'gowda', NULL, NULL, 0, NULL);\n",
    "\"\"\"\n",
    "cursor=execute_query(connection, insert_user)\n",
    "\n",
    "for i in cursor:\n",
    "    print(i)"
   ]
  },
  {
   "cell_type": "code",
   "execution_count": 13,
   "metadata": {},
   "outputs": [
    {
     "name": "stdout",
     "output_type": "stream",
     "text": [
      "Query successful\n"
     ]
    }
   ],
   "source": [
    "insert_auth = \"\"\"\n",
    "INSERT INTO auth_table VALUES\n",
    "('Kishen_19','falfhaf986fayfa0fy0afy0a7fa');\n",
    "\"\"\"\n",
    "cursor=execute_query(connection, insert_auth)\n",
    "\n",
    "for i in cursor:\n",
    "    print(i)"
   ]
  },
  {
   "cell_type": "code",
   "execution_count": 81,
   "metadata": {},
   "outputs": [
    {
     "name": "stdout",
     "output_type": "stream",
     "text": [
      "Query successful\n",
      "('Kishen_19', 'chicken', 'Kishen', 'gowda', None, None, 1, None)\n",
      "('alphatron', 'bhej', 'vraj', 'patel', 'ok', 'ok', 0, 'ok')\n"
     ]
    }
   ],
   "source": [
    "query=(\"SELECT * FROM users_table\")\n",
    "\n",
    "cursor=execute_query(connection,query)\n",
    "\n",
    "for i in cursor:\n",
    "    print(i)"
   ]
  },
  {
   "cell_type": "code",
   "execution_count": 52,
   "metadata": {},
   "outputs": [
    {
     "name": "stdout",
     "output_type": "stream",
     "text": [
      "Query successful\n",
      "('Kishen_19', 'falfhaf986fayfa0fy0afy0a7fa')\n",
      "('Kishen', 'g')\n",
      "('Kishen11', 'g')\n"
     ]
    }
   ],
   "source": [
    "query=(\"SELECT * FROM auth_table\")\n",
    "\n",
    "cursor=execute_query(connection,query)\n",
    "\n",
    "for i in cursor:\n",
    "    print(i)"
   ]
  },
  {
   "cell_type": "code",
   "execution_count": null,
   "metadata": {},
   "outputs": [],
   "source": []
  },
  {
   "cell_type": "code",
   "execution_count": 22,
   "metadata": {},
   "outputs": [
    {
     "name": "stdout",
     "output_type": "stream",
     "text": [
      "Error: 'near \"%\": syntax error'\n"
     ]
    }
   ],
   "source": [
    "insert_user = \"\"\"\n",
    "INSERT INTO users_table VALUES\n",
    "(%s, %s, %s, %s, %s, %s, %b, %s);\n",
    "\"\"\"\n",
    "params=('alphatron','bhej','vraj','patel','ok','ok',0,'ok')\n",
    "\n",
    "cursor=execute_query_params(connection, insert_user,params)\n",
    "\n",
    "for i in cursor:\n",
    "    print(i)"
   ]
  },
  {
   "cell_type": "code",
   "execution_count": 32,
   "metadata": {},
   "outputs": [
    {
     "ename": "InterfaceError",
     "evalue": "Error binding parameter 1 - probably unsupported type.",
     "output_type": "error",
     "traceback": [
      "\u001b[1;31m---------------------------------------------------------------------------\u001b[0m",
      "\u001b[1;31mInterfaceError\u001b[0m                            Traceback (most recent call last)",
      "\u001b[1;32m<ipython-input-32-194b72b92f95>\u001b[0m in \u001b[0;36m<module>\u001b[1;34m\u001b[0m\n\u001b[0;32m      4\u001b[0m \u001b[0mtok\u001b[0m \u001b[1;33m=\u001b[0m \u001b[1;34m'bhejafafafa'\u001b[0m\u001b[1;33m\u001b[0m\u001b[1;33m\u001b[0m\u001b[0m\n\u001b[0;32m      5\u001b[0m \u001b[0mcursor\u001b[0m \u001b[1;33m=\u001b[0m \u001b[0mconnection\u001b[0m\u001b[1;33m.\u001b[0m\u001b[0mcursor\u001b[0m\u001b[1;33m(\u001b[0m\u001b[1;33m)\u001b[0m\u001b[1;33m\u001b[0m\u001b[1;33m\u001b[0m\u001b[0m\n\u001b[1;32m----> 6\u001b[1;33m \u001b[0mcursor\u001b[0m\u001b[1;33m.\u001b[0m\u001b[0mexecute\u001b[0m\u001b[1;33m(\u001b[0m\u001b[0mauth_user\u001b[0m\u001b[1;33m,\u001b[0m\u001b[1;33m(\u001b[0m\u001b[0mname\u001b[0m\u001b[1;33m,\u001b[0m\u001b[0mcursor\u001b[0m\u001b[1;33m,\u001b[0m\u001b[1;33m)\u001b[0m\u001b[1;33m)\u001b[0m\u001b[1;33m\u001b[0m\u001b[1;33m\u001b[0m\u001b[0m\n\u001b[0m\u001b[0;32m      7\u001b[0m \u001b[1;33m\u001b[0m\u001b[0m\n\u001b[0;32m      8\u001b[0m \u001b[1;31m#cursor=execute_query_params(connection, insert_user,params)\u001b[0m\u001b[1;33m\u001b[0m\u001b[1;33m\u001b[0m\u001b[1;33m\u001b[0m\u001b[0m\n",
      "\u001b[1;31mInterfaceError\u001b[0m: Error binding parameter 1 - probably unsupported type."
     ]
    }
   ],
   "source": [
    "auth_user = (\"INSERT INTO auth_table VALUES (?,?);\")\n",
    "params=('alphatron','bhejafafafa')\n",
    "name='alphatron'\n",
    "tok = 'bhejafafafa'\n",
    "cursor = connection.cursor()\n",
    "cursor.execute(auth_user,(name,cursor))\n",
    "\n",
    "#cursor=execute_query_params(connection, insert_user,params)\n",
    "\n",
    "for i in cursor:\n",
    "    print(i)"
   ]
  },
  {
   "cell_type": "code",
   "execution_count": 43,
   "metadata": {},
   "outputs": [
    {
     "name": "stdout",
     "output_type": "stream",
     "text": [
      "Query successful\n"
     ]
    }
   ],
   "source": [
    "# auth_user=\"\"\"\n",
    "# SELECT * FROM users_table where first_name=?\n",
    "# \"\"\"\n",
    "\n",
    "# entering the data in auth table\n",
    "auth_user = \"\"\"\n",
    "INSERT INTO auth_table VALUES (?,?);\n",
    "\"\"\"\n",
    "\n",
    "t = ('Kishen11','g')\n",
    "#out=cursor.execute(auth_user, t)\n",
    "cursor=execute_query_params(connection, auth_user,t)\n",
    "\n",
    "for i in cursor:\n",
    "    print(i)"
   ]
  },
  {
   "cell_type": "code",
   "execution_count": 69,
   "metadata": {},
   "outputs": [
    {
     "name": "stdout",
     "output_type": "stream",
     "text": [
      "Query successful\n",
      "<class 'tuple'>\n"
     ]
    }
   ],
   "source": [
    "# retrieving the data from auth table\n",
    "\n",
    "auth_tok = \"\"\"\n",
    "SELECT * FROM auth_table where userID = ?;\n",
    "\"\"\"\n",
    "t=('Kishen11',)\n",
    "\n",
    "cursor=execute_query_params(connection, auth_tok,t)\n",
    "\n",
    "for i in cursor:\n",
    "    print(i)\n"
   ]
  },
  {
   "cell_type": "code",
   "execution_count": 67,
   "metadata": {},
   "outputs": [
    {
     "name": "stdout",
     "output_type": "stream",
     "text": [
      "Query successful\n"
     ]
    }
   ],
   "source": [
    "#Entry in usertable\n",
    "\n",
    "user_entry=\"\"\"\n",
    "INSERT INTO users_table VALUES (?,?,?,?,?,?,?,?);\n",
    "\"\"\"\n",
    "t = ('alphatron','bhej','vraj','patel','ok','ok',0,'ok')\n",
    "\n",
    "cursor=execute_query_params(connection, user_entry,t)\n",
    "\n",
    "for i in cursor:\n",
    "    print(i)\n"
   ]
  },
  {
   "cell_type": "code",
   "execution_count": 72,
   "metadata": {},
   "outputs": [
    {
     "name": "stdout",
     "output_type": "stream",
     "text": [
      "Query successful\n",
      "('Kishen_19', 'chicken', 'Kishen', 'gowda', None, None, 0, None)\n"
     ]
    }
   ],
   "source": [
    "#retrieving from user table\n",
    "\n",
    "query = \"\"\"\n",
    "SELECT * FROM users_table where userID = ?;\n",
    "\"\"\"\n",
    "t=('Kishen_19',)\n",
    "\n",
    "cursor=execute_query_params(connection, query,t)\n",
    "\n",
    "for i in cursor:\n",
    "    print(i)\n"
   ]
  },
  {
   "cell_type": "code",
   "execution_count": 76,
   "metadata": {},
   "outputs": [
    {
     "name": "stdout",
     "output_type": "stream",
     "text": [
      "Query successful\n",
      "0\n"
     ]
    }
   ],
   "source": [
    "# userID availability check\n",
    "\n",
    "query = \"\"\"\n",
    "SELECT userId FROM users_table where userID = ?;\n",
    "\"\"\"\n",
    "t=('Kishen_19',)\n",
    "\n",
    "cursor=execute_query_params(connection, query,t)\n",
    "\n",
    "count=0\n",
    "\n",
    "for i in cursor:\n",
    "    count+=1\n",
    "    \n",
    "if count>0:\n",
    "    print(\"the user name is not available\")\n",
    "    \n",
    "else:\n",
    "    print(\"the user name is available\")"
   ]
  },
  {
   "cell_type": "code",
   "execution_count": 80,
   "metadata": {},
   "outputs": [
    {
     "name": "stdout",
     "output_type": "stream",
     "text": [
      "Query successful\n"
     ]
    }
   ],
   "source": [
    "#updating a table\n",
    "\n",
    "query = \"\"\"\n",
    "UPDATE users_table SET is_online = ? WHERE userID = ?;\n",
    "\"\"\"\n",
    "\n",
    "t=(1,'Kishen_19')\n",
    "\n",
    "cursor=execute_query_params(connection, query,t)\n",
    "\n",
    "for i in cursor:\n",
    "    print(i)\n"
   ]
  },
  {
   "cell_type": "code",
   "execution_count": null,
   "metadata": {},
   "outputs": [],
   "source": []
  }
 ],
 "metadata": {
  "kernelspec": {
   "display_name": "Python 3",
   "language": "python",
   "name": "python3"
  },
  "language_info": {
   "codemirror_mode": {
    "name": "ipython",
    "version": 3
   },
   "file_extension": ".py",
   "mimetype": "text/x-python",
   "name": "python",
   "nbconvert_exporter": "python",
   "pygments_lexer": "ipython3",
   "version": "3.7.3"
  }
 },
 "nbformat": 4,
 "nbformat_minor": 2
}
