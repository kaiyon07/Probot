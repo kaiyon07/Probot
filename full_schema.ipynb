{
 "cells": [
  {
   "cell_type": "code",
   "execution_count": 1,
   "metadata": {},
   "outputs": [],
   "source": [
    "import sqlite3\n",
    "from sqlite3 import Error\n",
    "\n",
    "database = \"minitweet_full.db\""
   ]
  },
  {
   "cell_type": "code",
   "execution_count": 2,
   "metadata": {},
   "outputs": [],
   "source": [
    "def create_connection(db_file):\n",
    "    \"\"\" create a database connection to the SQLite database\n",
    "        specified by db_file\n",
    "    :param db_file: database file\n",
    "    :return: Connection object or None\n",
    "    \"\"\"\n",
    "    connection = None\n",
    "    try:\n",
    "        connection = sqlite3.connect(db_file)\n",
    "        return connection\n",
    "    except Error as e:\n",
    "        print(e)\n",
    "        \n",
    "        \n",
    "\n",
    "def execute_query(connection, query):\n",
    "    try:\n",
    "        cursor = connection.cursor()\n",
    "        cursor.execute(query)\n",
    "        #connection.commit()\n",
    "        print(\"Query successful\")\n",
    "        return cursor\n",
    "    except Error as err:\n",
    "        print(f\"Error: '{err}'\")\n",
    "    \n",
    "    \n",
    "\n",
    "        \n",
    "def execute_query_params(connection, query,params):\n",
    "    try:\n",
    "        cursor = connection.cursor()\n",
    "        cursor.execute(query,params)\n",
    "        #connection.commit()\n",
    "        print(\"Query successful\")\n",
    "        return cursor\n",
    "    except Error as err:\n",
    "        print(f\"Error: '{err}'\")\n",
    "    \n",
    "connection = create_connection(database)\n",
    "\n",
    "\n"
   ]
  },
  {
   "cell_type": "code",
   "execution_count": 11,
   "metadata": {},
   "outputs": [
    {
     "name": "stdout",
     "output_type": "stream",
     "text": [
      "Error: 'table users_table already exists'\n",
      "Error: 'table auth_table already exists'\n",
      "Error: 'table tweet_table already exists'\n",
      "Error: 'table follow_table already exists'\n",
      "Error: 'table chat_table already exists'\n",
      "Error: 'table hashtag_table already exists'\n",
      "Error: 'table liked_tweet_table already exists'\n",
      "Error: 'table ch2_table already exists'\n"
     ]
    }
   ],
   "source": [
    "#change users table to user table\n",
    "\n",
    "create_user_table = \"\"\"\n",
    "CREATE TABLE users_table (\n",
    "  userID VARCHAR(256) PRIMARY KEY,\n",
    "  password VARCHAR(256) NOT NULL,\n",
    "  first_name VARCHAR(256) NOT NULL,\n",
    "  dob DATE NOT NULL,\n",
    "  doj DaTE NOT NULL,\n",
    "  gender VARCHAR(256) NOT NULL,\n",
    "  is_online BOOL NOT NULL,\n",
    "  bio TEXT\n",
    "  );\n",
    " \"\"\"\n",
    "\n",
    "create_auth_table =\"\"\"\n",
    "CREATE TABLE auth_table (\n",
    "userID VARCHAR(256) NOT NULL,\n",
    "auth_token VARCHAR(256) PRIMARY KEY\n",
    ");\n",
    "\"\"\"\n",
    "\n",
    "create_tweet_table = \"\"\"\n",
    "CREATE TABLE tweet_table (\n",
    "  tweetID INT PRIMARY KEY,\n",
    "  tweet VARCHAR(500),\n",
    "  userId VARCHAR(256) NOT NULL,\n",
    "  retweetID INT,\n",
    "  date_pub DATETIME,\n",
    "  hashtags TEXT\n",
    "  );\n",
    " \"\"\"\n",
    "\n",
    "create_following_table =  \"\"\"\n",
    "CREATE TABLE follow_table (\n",
    "userID VARCHAR(256) NOT NULL,\n",
    "follow VARCHAR(256) NOT NULL\n",
    ");\n",
    "\"\"\"\n",
    "\n",
    "create_chat_table =  \"\"\"\n",
    "CREATE TABLE chat_table (\n",
    "chatID INT NOT NULL,\n",
    "userID VARCHAR(256) NOT NULL,\n",
    "comment VARCHAR(256),\n",
    "time DATETIME\n",
    ");\n",
    "\"\"\"\n",
    "\n",
    "create_ch2_table= \"\"\"\n",
    "CREATE TABLE ch2_table (\n",
    "userID VARCHAR(256) NOT NULL,\n",
    "chatID INT NOT NULL,\n",
    "chatname VARCHAR(256) NOT NULL\n",
    ");\n",
    "\"\"\"\n",
    "\n",
    "\n",
    "create_hashtag_table =  \"\"\"\n",
    "CREATE TABLE hashtag_table (\n",
    "hashtag VARCHAR(256) NOT NULL,\n",
    "tweetID INT NOT NULL\n",
    ");\n",
    "\"\"\"\n",
    "\n",
    "create_liked_tweet_table =  \"\"\"\n",
    "CREATE TABLE liked_tweet_table (\n",
    "tweetID INT NOT NULL,\n",
    "userID VARCHAR(256) NOT NULL\n",
    ");\n",
    "\"\"\"\n",
    "\n",
    "\n",
    "\n",
    "cursor=execute_query(connection, create_user_table)\n",
    "cursor=execute_query(connection, create_auth_table)\n",
    "cursor=execute_query(connection, create_tweet_table)\n",
    "cursor=execute_query(connection, create_following_table)\n",
    "cursor=execute_query(connection, create_chat_table)\n",
    "cursor=execute_query(connection, create_hashtag_table)\n",
    "cursor=execute_query(connection, create_liked_tweet_table)\n",
    "cursor=execute_query(connection, create_ch2_table)\n",
    "\n",
    "for i in cursor:\n",
    "    print(i)"
   ]
  },
  {
   "cell_type": "code",
   "execution_count": 7,
   "metadata": {},
   "outputs": [
    {
     "name": "stdout",
     "output_type": "stream",
     "text": [
      "Query successful\n"
     ]
    }
   ],
   "source": [
    "user_entry=\"\"\"\n",
    "INSERT INTO chat_table VALUES (?,?,?,DATETIME(?));\n",
    "\"\"\"\n",
    "t = (1,'bhej','vraj','2019-07-27 23:59:59')\n",
    "\n",
    "cursor=execute_query_params(connection, user_entry,t)\n",
    "\n",
    "for i in cursor:\n",
    "    print(i)"
   ]
  },
  {
   "cell_type": "code",
   "execution_count": 8,
   "metadata": {},
   "outputs": [
    {
     "name": "stdout",
     "output_type": "stream",
     "text": [
      "Query successful\n",
      "(1, 'bhej', 'vraj', '2019-07-27 23:59:59')\n"
     ]
    }
   ],
   "source": [
    "query = \"\"\"\n",
    "SELECT * FROM chat_table;\n",
    "\"\"\"\n",
    "t=()\n",
    "\n",
    "cursor=execute_query_params(connection, query,t)\n",
    "\n",
    "for i in cursor:\n",
    "    print(i)"
   ]
  }
 ],
 "metadata": {
  "kernelspec": {
   "display_name": "Python 3",
   "language": "python",
   "name": "python3"
  },
  "language_info": {
   "codemirror_mode": {
    "name": "ipython",
    "version": 3
   },
   "file_extension": ".py",
   "mimetype": "text/x-python",
   "name": "python",
   "nbconvert_exporter": "python",
   "pygments_lexer": "ipython3",
   "version": "3.7.3"
  }
 },
 "nbformat": 4,
 "nbformat_minor": 2
}
